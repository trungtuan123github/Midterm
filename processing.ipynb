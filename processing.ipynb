{
 "cells": [
  {
   "cell_type": "code",
   "execution_count": null,
   "metadata": {},
   "outputs": [],
   "source": [
    "from scipy.io import loadmat\n",
    "from scipy.signal import butter, filtfilt\n",
    "import numpy as np\n",
    "import pandas as pd\n",
    "\n",
    "# Load the .mat file\n",
    "mat_file = loadmat('eeg_record1.mat')"
   ]
  },
  {
   "cell_type": "markdown",
   "metadata": {},
   "source": [
    "# Extract data"
   ]
  },
  {
   "cell_type": "code",
   "execution_count": null,
   "metadata": {},
   "outputs": [],
   "source": [
    "def extract_raw_data(mat_file: dict) -> pd.DataFrame:\n",
    "    def get_state(timestamp) -> str:\n",
    "        if timestamp <= 10*128*60:\n",
    "            return 0 # 0 is focussed\n",
    "        elif timestamp > 20*128*60:\n",
    "            return 2 # drownsy\n",
    "        else:\n",
    "            return 1\n",
    "\n",
    "    o = mat_file['o'] # data inside key 'o'\n",
    "    data = o[0][0]['data'][:, 3:17]\n",
    "    columns_name = ['AF3', 'F7', ' F3', ' FC5', 'T7', 'P7', 'O1',\n",
    "                    'O2', 'P8', 'T8', 'FC6', ', '\n",
    "    eeg_data = pd.DataFrame(data, columns = columns_name)\n",
    "    \n",
    "    # eeg_data.reset_index(inplace=True)\n",
    "    # eeg_data.rename(columns={'index': 'timestamp'}, inplace=True)\n",
    "    # eeg_data['state'] = eeg_data['timestamp'].apply(get_state)\n",
    "\n",
    "    return eeg_data\n",
    "\n",
    "# 128 samples (128 Hz) are recorded per second\n",
    "eeg_data = extract_raw_data(mat_file)\n",
    "        "
   ]
  },
  {
   "cell_type": "markdown",
   "metadata": {},
   "source": [
    "# Bandpass filtering"
   ]
  },
  {
   "cell_type": "code",
   "execution_count": null,
   "metadata": {},
   "outputs": [],
   "source": [
    "lowcut = 0.5  # Lower bound of the band (Hz)\n",
    "highcut = 40  # Upper bound of the band (Hz)\n",
    "fs = 128  # Sampling frequency (Hz)\n",
    "\n",
    "def butterworth_bandpass(low_bp, high_bp, fs, order=4):\n",
    "    nyquist = 0.5 * fs\n",
    "    low = low_bp / nyquist\n",
    "    high = high_bp / nyquist\n",
    "    b, a = butter(order, [low, high], btype='band')\n",
    "    return b, a\n",
    "\n",
    "b, a = butterworth_bandpass(lowcut, highcut, fs)\n",
    "f_eeg_data = filtfilt(b, a, eeg_data, axis=0)"
   ]
  },
  {
   "cell_type": "code",
   "execution_count": null,
   "metadata": {},
   "outputs": [],
   "source": [
    "import numpy as np\n",
    "from sklearn.decomposition import FastICA\n",
    "# from sklearn.metrics import mean_squarerror  # Correct import\n",
    "import matplotlib.pyplot as plt\n",
    "\n",
    "def compute_cosine_similarity(A, B):\n",
    "    return np.dot(A, B) / (np.linalg.norm(A) * np.linalg.norm(B))\n",
    "    dot_product = np.dot(A, B)\n",
    "\n",
    "cosine_sims = []\n",
    "# Loop over different numbers of components\n",
    "for n in range(1, f_eeg_data.shape[1] + 1):\n",
    "    ica = FastICA(n_components=n, random_state=42)\n",
    "    S = ica.fit_transform(f_eeg_data)  # Independent sources\n",
    "    A = ica.mixing_  # Mixing matrix\n",
    "    temp = np.dot(S, A.T) # Reconstruct the observed signals\n",
    "\n",
    "    # Compute the reconstruction error using Mean Squared Error (MSE)\n",
    "    sim = np.mean([compute_cosine_similarity(temp[:, i], f_eeg_data[:, i]) for i in range(f_eeg_data.shape[1])])\n",
    "    print(f'n = {n} - Cosine Similarity: {sim}')\n",
    "    cosine_sims.append(sim)\n",
    "\n"
   ]
  },
  {
   "cell_type": "code",
   "execution_count": null,
   "metadata": {},
   "outputs": [],
   "source": [
    "plt.figure(figsize=(10, 3))\n",
    "plt.plot(range(1, f_eeg_data.shape[1] + 1), cosine_sims, marker='o')\n",
    "plt.xlabel('Number of components')\n",
    "plt.ylabel('Cosine Similarity')\n",
    "plt.title('Cosine Similarity vs Number of Components')\n",
    "plt.grid()\n",
    "plt.show()"
   ]
  },
  {
   "cell_type": "code",
   "execution_count": null,
   "metadata": {},
   "outputs": [],
   "source": [
    "n = np.argmax(cosine_sims) + 1\n",
    "ica = FastICA(n_components=n, random_state=42)\n",
    "S = ica.fit_transform(f_eeg_data)  # Independent sources\n",
    "A = ica.mixing_  # Mixing matrix\n",
    "\n",
    "r_eeg_data = np.dot(S, A.T)  # Reconstruct the observed signals"
   ]
  },
  {
   "cell_type": "markdown",
   "metadata": {},
   "source": [
    "# Apply Fourier Transform"
   ]
  },
  {
   "cell_type": "code",
   "execution_count": 106,
   "metadata": {},
   "outputs": [],
   "source": [
    "fft_data = np.fft.fft(r_eeg_data, axis=0)\n",
    "freqs = np.fft.fftfreq(r_eeg_data.shape[0], 1/fs)\n",
    "\n",
    "N = fft_data.shape[0] # get positive frequencies\n",
    "pos_fft_data = fft_data[:N//2, :]\n",
    "pos_freqs = freqs[:N//2]\n",
    "\n",
    "power_spectrum_data = np.square(np.abs(pos_fft_data)) / N\n",
    "psd_data = power_spectrum_data / fs"
   ]
  },
  {
   "cell_type": "markdown",
   "metadata": {},
   "source": [
    "Compute $PSD = power\\_spectrum / fs = power / (N*fs) = |X|^2 / (N*fs)$"
   ]
  },
  {
   "cell_type": "code",
   "execution_count": null,
   "metadata": {},
   "outputs": [
    {
     "data": {
      "image/png": "[encoded data removed]",
      "text/plain": [
       "<Figure size 800x400 with 1 Axes>"
      ]
     },
     "metadata": {},
     "output_type": "display_data"
    }
   ],
   "source": [
    "plt.figure(figsize=(8, 4))\n",
    "plt.plot(pos_freqs[:].real, psd_data[:,0])\n",
    "plt.show()"
   ]
  },
  {
   "cell_type": "code",
   "execution_count": null,
   "metadata": {},
   "outputs": [
    {
     "name": "stderr",
     "output_type": "stream",
     "text": [
      "c:\\Users\\dangm\\AppData\\Local\\Programs\\Python\\Python311\\Lib\\site-packages\\numpy\\core\\fromnumeric.py:3504: RuntimeWarning: Mean of empty slice.\n",
      "  return _methods._mean(a, axis=axis, dtype=dtype,\n",
      "c:\\Users\\dangm\\AppData\\Local\\Programs\\Python\\Python311\\Lib\\site-packages\\numpy\\core\\_methods.py:129: RuntimeWarning: invalid value encountered in scalar divide\n",
      "  ret = ret.dtype.type(ret / rcount)\n"
     ]
    }
   ],
   "source": [
    "states_data = [\n",
    "    psd_data[:10*128*60, :], # focus\n",
    "    psd_data[10*128*60:20*128*60, :], # unfocus\n",
    "    psd_data[20*128*60:, :] # drowsy\n",
    "]\n",
    "\n",
    "states_freq = [\n",
    "    pos_freqs[:10*128*60],\n",
    "    pos_freqs[10*128*60:20*128*60],\n",
    "    pos_freqs[20*128*60:]\n",
    "]\n",
    "\n",
    "\n",
    "band_waves = {\n",
    "    'delta': (0.5, 4),\n",
    "    'theta': (4, 8),\n",
    "    'alpha': (8, 12),\n",
    "    'beta': (12, 30),\n",
    "    'gamma': (30, 100)\n",
    "}\n",
    "\n",
    "columns_name = ['AF3', 'F7', 'F3', 'FC5', 'T7', 'P7', 'O1',\n",
    "                    'O2', 'P8', 'T8', 'FC6', 'F4', 'F8', 'AF4']\n",
    "\n",
    "new_data = []\n",
    "for f, state_data in enumerate(states_data):\n",
    "    for i in range(2):\n",
    "        channel = state_data[:, i]\n",
    "        sample = {}\n",
    "        \n",
    "        for wave in band_waves:\n",
    "            low, high = band_waves[wave]\n",
    "            band_data = channel[(states_freq[f] >= low) & (states_freq[f] < high)]\n",
    "            sample[f'{wave}'] = np.mean(band_data)\n",
    "\n",
    "        sample['channel'] = columns_name[i]\n",
    "\n",
    "        if f == 0:\n",
    "            sample['state'] = 'focus'\n",
    "        elif f == 1:\n",
    "            sample['state'] = 'unfocus'\n",
    "        else:\n",
    "            sample['state'] = 'drownsy'\n",
    "\n",
    "        new_data.append(sample)\n",
    "    "
   ]
  },
  {
   "cell_type": "code",
   "execution_count": 124,
   "metadata": {},
   "outputs": [],
   "source": [
    "for f, state_data in enumerate(states_data):\n",
    "    for i in range(1):\n",
    "        channel = state_data[:, i]\n",
    "        sample = {}\n",
    "        \n",
    "        for wave in band_waves:\n",
    "            low, high = band_waves[wave]\n",
    "            band_data = channel[(states_freq[f] >= low) & (states_freq[f] < high)]\n",
    "            sample[f'{wave}'] = np.mean(band_data)\n",
    "\n",
    "        sample['channel'] = columns_name[i]\n",
    "\n",
    "        if f == 0:\n",
    "            sample['state'] = 'focus'\n",
    "        elif f == 1:\n",
    "            sample['state'] = 'unfocus'\n",
    "        else:\n",
    "            sample['state'] = 'drownsy'\n",
    "\n",
    "        new_data.append(sample)"
   ]
  },
  {
   "cell_type": "code",
   "execution_count": 131,
   "metadata": {},
   "outputs": [
    {
     "name": "stdout",
     "output_type": "stream",
     "text": [
      "0.0\n",
      "0.0\n",
      "0.0\n",
      "0.0\n",
      "1644.3373116522664\n"
     ]
    }
   ],
   "source": [
    "f = 1\n",
    "channel = states_data[f][:, i]\n",
    "\n",
    "for wave in band_waves:\n",
    "    low, high = band_waves[wave]\n",
    "    band_data = channel[(states_freq[f] >= low) & (states_freq[f] < high)]\n",
    "    print(np.sum(band_data))"
   ]
  },
  {
   "cell_type": "code",
   "execution_count": 132,
   "metadata": {},
   "outputs": [
    {
     "data": {
      "text/plain": [
       "array([1.13313006e-01, 3.34938210e-02, 1.22929856e-01, ...,\n",
       "       5.46111041e-08, 5.46110615e-08, 5.46110190e-08])"
      ]
     },
     "execution_count": 132,
     "metadata": {},
     "output_type": "execute_result"
    }
   ],
   "source": [
    "channel"
   ]
  },
  {
   "cell_type": "code",
   "execution_count": null,
   "metadata": {},
   "outputs": [],
   "source": []
  }
 ],
 "metadata": {
  "kernelspec": {
   "display_name": "Python 3",
   "language": "python",
   "name": "python3"
  },
  "language_info": {
   "codemirror_mode": {
    "name": "ipython",
    "version": 3
   },
   "file_extension": ".py",
   "mimetype": "text/x-python",
   "name": "python",
   "nbconvert_exporter": "python",
   "pygments_lexer": "ipython3",
   "version": "3.11.6"
  }
 },
 "nbformat": 4,
 "nbformat_minor": 2
}
